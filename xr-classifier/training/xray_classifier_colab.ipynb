{
 "cells": [
  {
   "cell_type": "code",
   "execution_count": null,
   "id": "7d3b999b",
   "metadata": {},
   "outputs": [
    {
     "name": "stderr",
     "output_type": "stream",
     "text": [
      "\n",
      "[notice] A new release of pip is available: 25.1.1 -> 25.2\n",
      "[notice] To update, run: python.exe -m pip install --upgrade pip\n"
     ]
    },
    {
     "name": "stdout",
     "output_type": "stream",
     "text": [
      "Note: you may need to restart the kernel to use updated packages.\n"
     ]
    },
    {
     "name": "stderr",
     "output_type": "stream",
     "text": [
      "C:\\Users\\ADMIN\\AppData\\Roaming\\Python\\Python313\\site-packages\\albumentations\\core\\validation.py:114: UserWarning: ShiftScaleRotate is a special case of Affine transform. Please use Affine transform instead.\n",
      "  original_init(self, **validated_kwargs)\n",
      "C:\\Users\\ADMIN\\AppData\\Roaming\\Python\\Python313\\site-packages\\lightning_fabric\\connector.py:571: `precision=16` is supported for historical reasons but its usage is discouraged. Please set your precision to 16-mixed instead!\n",
      "C:\\Users\\ADMIN\\AppData\\Roaming\\Python\\Python313\\site-packages\\pytorch_lightning\\trainer\\connectors\\accelerator_connector.py:508: You passed `Trainer(accelerator='cpu', precision='16-mixed')` but AMP with fp16 is not supported on CPU. Using `precision='bf16-mixed'` instead.\n",
      "Using bfloat16 Automatic Mixed Precision (AMP)\n",
      "💡 Tip: For seamless cloud uploads and versioning, try installing [litmodels](https://pypi.org/project/litmodels/) to enable LitModelCheckpoint, which syncs automatically with the Lightning model registry.\n",
      "GPU available: False, used: False\n",
      "TPU available: False, using: 0 TPU cores\n",
      "HPU available: False, using: 0 HPUs\n",
      "C:\\Users\\ADMIN\\AppData\\Roaming\\Python\\Python313\\site-packages\\pytorch_lightning\\utilities\\model_summary\\model_summary.py:231: Precision bf16-mixed is not supported by the model summary.  Estimated model size in MB will not be accurate. Using 32 bits instead.\n",
      "\n",
      "  | Name      | Type               | Params | Mode \n",
      "---------------------------------------------------------\n",
      "0 | model     | DenseNet           | 7.0 M  | train\n",
      "1 | criterion | CrossEntropyLoss   | 0      | train\n",
      "2 | acc       | MulticlassAccuracy | 0      | train\n",
      "---------------------------------------------------------\n",
      "7.0 M     Trainable params\n",
      "0         Non-trainable params\n",
      "7.0 M     Total params\n",
      "27.832    Total estimated model params size (MB)\n",
      "435       Modules in train mode\n",
      "0         Modules in eval mode\n"
     ]
    },
    {
     "name": "stdout",
     "output_type": "stream",
     "text": [
      "Sanity Checking: |          | 0/? [00:00<?, ?it/s]"
     ]
    },
    {
     "name": "stderr",
     "output_type": "stream",
     "text": [
      "C:\\Users\\ADMIN\\AppData\\Roaming\\Python\\Python313\\site-packages\\pytorch_lightning\\trainer\\connectors\\data_connector.py:428: Consider setting `persistent_workers=True` in 'val_dataloader' to speed up the dataloader worker initialization.\n"
     ]
    },
    {
     "name": "stdout",
     "output_type": "stream",
     "text": [
      "                                                                           \r"
     ]
    },
    {
     "name": "stderr",
     "output_type": "stream",
     "text": [
      "C:\\Users\\ADMIN\\AppData\\Roaming\\Python\\Python313\\site-packages\\pytorch_lightning\\trainer\\connectors\\data_connector.py:428: Consider setting `persistent_workers=True` in 'train_dataloader' to speed up the dataloader worker initialization.\n"
     ]
    },
    {
     "name": "stdout",
     "output_type": "stream",
     "text": [
      "Epoch 0:   0%|          | 0/397 [00:00<?, ?it/s]"
     ]
    }
   ],
   "source": [
    "# ========================================\n",
    "# X-Ray Classifier with PyTorch Lightning\n",
    "# Google Colab Version\n",
    "# ========================================\n",
    "\n",
    "%pip install pytorch-lightning torchmetrics albumentations seaborn matplotlib pandas tqdm -q\n",
    "\n",
    "import os\n",
    "\n",
    "import torch\n",
    "import torch.nn as nn\n",
    "from torchvision import models\n",
    "from torch.utils.data import DataLoader\n",
    "import pytorch_lightning as pl\n",
    "from torchmetrics.classification import Accuracy\n",
    "import pandas as pd\n",
    "from sklearn.model_selection import train_test_split\n",
    "\n",
    "# Upload your dataset to Google Drive first!\n",
    "\n",
    "DATA_ROOT = \"../COVID-19_Radiography_Dataset\"  # adjust path if needed\n",
    "  # adjust to your folder\n",
    "BATCH_SIZE = 32\n",
    "EPOCHS = 10\n",
    "LR = 1e-4\n",
    "\n",
    "from dataset_covid import CovidXrayDataset, CLASSES\n",
    "from transforms import get_train_transforms, get_valid_transforms\n",
    "\n",
    "# ---------------- DATASET ----------------\n",
    "all_samples = []\n",
    "for c in CLASSES:\n",
    "    img_dir = os.path.join(DATA_ROOT, c, \"images\")\n",
    "    if not os.path.isdir(img_dir):\n",
    "        img_dir = os.path.join(DATA_ROOT, c)\n",
    "    if not os.path.isdir(img_dir):\n",
    "        continue\n",
    "    files = [f for f in os.listdir(img_dir) if f.lower().endswith(('.png','.jpg','.jpeg'))]\n",
    "    for f in files:\n",
    "        all_samples.append({\"path\": os.path.join(img_dir, f), \"label\": c})\n",
    "\n",
    "df = pd.DataFrame(all_samples)\n",
    "train_df, test_df = train_test_split(df, test_size=0.15, stratify=df[\"label\"], random_state=42)\n",
    "train_df, val_df  = train_test_split(train_df, test_size=0.15, stratify=train_df[\"label\"], random_state=42)\n",
    "\n",
    "train_ds = CovidXrayDataset(train_df, transform=get_train_transforms())\n",
    "val_ds   = CovidXrayDataset(val_df, transform=get_valid_transforms())\n",
    "test_ds  = CovidXrayDataset(test_df, transform=get_valid_transforms())\n",
    "\n",
    "train_loader = DataLoader(train_ds, batch_size=BATCH_SIZE, shuffle=True, num_workers=2)\n",
    "val_loader   = DataLoader(val_ds, batch_size=BATCH_SIZE, shuffle=False, num_workers=2)\n",
    "test_loader  = DataLoader(test_ds, batch_size=BATCH_SIZE, shuffle=False, num_workers=2)\n",
    "\n",
    "# ---------------- MODEL ----------------\n",
    "class XrayClassifier(pl.LightningModule):\n",
    "    def __init__(self, num_classes=len(CLASSES), lr=LR):\n",
    "        super().__init__()\n",
    "        self.save_hyperparameters()\n",
    "        self.model = models.densenet121(weights=\"IMAGENET1K_V1\")\n",
    "        num_ftrs = self.model.classifier.in_features\n",
    "        self.model.classifier = nn.Linear(num_ftrs, num_classes)\n",
    "        self.criterion = nn.CrossEntropyLoss()\n",
    "        self.acc = Accuracy(task=\"multiclass\", num_classes=num_classes, average=\"macro\")\n",
    "\n",
    "    def forward(self, x):\n",
    "        return self.model(x)\n",
    "\n",
    "    def training_step(self, batch, batch_idx):\n",
    "        imgs, labels = batch\n",
    "        outputs = self(imgs)\n",
    "        loss = self.criterion(outputs, labels)\n",
    "        acc = self.acc(outputs, labels)\n",
    "        self.log(\"train_loss\", loss, prog_bar=True)\n",
    "        self.log(\"train_acc\", acc, prog_bar=True)\n",
    "        return loss\n",
    "\n",
    "    def validation_step(self, batch, batch_idx):\n",
    "        imgs, labels = batch\n",
    "        outputs = self(imgs)\n",
    "        loss = self.criterion(outputs, labels)\n",
    "        acc = self.acc(outputs, labels)\n",
    "        self.log(\"val_loss\", loss, prog_bar=True)\n",
    "        self.log(\"val_acc\", acc, prog_bar=True)\n",
    "\n",
    "    def test_step(self, batch, batch_idx):\n",
    "        imgs, labels = batch\n",
    "        outputs = self(imgs)\n",
    "        loss = self.criterion(outputs, labels)\n",
    "        acc = self.acc(outputs, labels)\n",
    "        self.log(\"test_loss\", loss, prog_bar=True)\n",
    "        self.log(\"test_acc\", acc, prog_bar=True)\n",
    "\n",
    "    def configure_optimizers(self):\n",
    "        return torch.optim.AdamW(self.parameters(), lr=self.hparams.lr, weight_decay=1e-4)\n",
    "\n",
    "# ---------------- TRAIN ----------------\n",
    "model = XrayClassifier()\n",
    "\n",
    "trainer = pl.Trainer(\n",
    "\n",
    "    max_epochs=EPOCHS,\n",
    "    accelerator=\"auto\",   # Automatically select GPU if available, else CPU\n",
    "    devices=1,\n",
    "    precision=16,\n",
    "    log_every_n_steps=10\n",
    " \n",
    "    \n",
    "    \n",
    ")\n",
    "\n",
    "trainer.fit(model, train_loader, val_loader)\n",
    "trainer.test(model, test_loader)\n"
   ]
  },
  {
   "cell_type": "code",
   "execution_count": null,
   "id": "bfe04ac5",
   "metadata": {},
   "outputs": [],
   "source": []
  }
 ],
 "metadata": {
  "kernelspec": {
   "display_name": "Python 3",
   "language": "python",
   "name": "python3"
  },
  "language_info": {
   "codemirror_mode": {
    "name": "ipython",
    "version": 3
   },
   "file_extension": ".py",
   "mimetype": "text/x-python",
   "name": "python",
   "nbconvert_exporter": "python",
   "pygments_lexer": "ipython3",
   "version": "3.13.5"
  }
 },
 "nbformat": 4,
 "nbformat_minor": 5
}
