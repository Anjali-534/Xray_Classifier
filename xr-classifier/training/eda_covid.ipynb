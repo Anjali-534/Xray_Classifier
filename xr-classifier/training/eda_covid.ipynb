{
 "cells": [
  {
   "cell_type": "markdown",
   "id": "93126276",
   "metadata": {},
   "source": [
    "# 🩻 EDA — COVID-19 Radiography Dataset\n",
    "\n",
    "This notebook explores the COVID Radiography dataset:\n",
    "- Check dataset structure\n",
    "- Analyze class balance\n",
    "- Inspect sample images\n",
    "- Look at image dimensions & pixel intensity distribution\n",
    "- Create train/val/test split\n",
    "- Save results for documentation\n",
    "\n",
    "⚠️ **Disclaimer**: This dataset is for research/demo use only.  \n",
    "It is **not for clinical use**.\n"
   ]
  },
  {
   "cell_type": "code",
   "execution_count": 1,
   "metadata": {},
   "outputs": [],
   "source": [
 